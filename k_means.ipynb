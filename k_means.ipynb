{
 "cells": [
  {
   "cell_type": "markdown",
   "metadata": {},
   "source": [
    "# k-means im 1-dim "
   ]
  },
  {
   "cell_type": "code",
   "execution_count": 1,
   "metadata": {},
   "outputs": [],
   "source": [
    "import matplotlib.pyplot as plt \n",
    "import numpy as np \n",
    "import random \n",
    "import itertools\n",
    "from IPython.display import display, Markdown, Latex\n",
    "\n"
   ]
  },
  {
   "cell_type": "markdown",
   "metadata": {},
   "source": [
    "Als Beispiel nehmen wir an wir haben eine Menge an Punkten auf einer 1-Dimensionalen Skala. "
   ]
  },
  {
   "cell_type": "code",
   "execution_count": 2,
   "metadata": {},
   "outputs": [],
   "source": [
    "def create_data(n_clusters=3, vals_per_cluster=5):\n",
    "    #random.seed(seed)\n",
    "    distance = vals_per_cluster * 2.5\n",
    "    cluster_span = 5\n",
    "    \n",
    "    # all clusters \n",
    "    clusters = []\n",
    "    center_values = []     \n",
    "    center_values.append(distance)\n",
    "    \n",
    "    for i in range(0, n_clusters-1):\n",
    "        center_values.append(center_values[-1]+distance)\n",
    "        \n",
    "    for c in center_values:\n",
    "        cl = []\n",
    "        rands = random.sample(range(- round(0.7*vals_per_cluster), round(0.7*vals_per_cluster)), vals_per_cluster)\n",
    "        for r in rands:\n",
    "            cl.append(c + r)\n",
    "\n",
    "        clusters.append(cl)\n",
    "    return clusters"
   ]
  },
  {
   "cell_type": "code",
   "execution_count": 3,
   "metadata": {},
   "outputs": [],
   "source": [
    "def get_n_colors(n = 10, seed=10):\n",
    "    #random.seed(seed)\n",
    "    color = []\n",
    "    \n",
    "    for i in range(n):\n",
    "        color.append('#%06X' % random.randint(0, 0xFFFFFF))\n",
    "    return color"
   ]
  },
  {
   "cell_type": "code",
   "execution_count": 4,
   "metadata": {},
   "outputs": [],
   "source": [
    "def plot_line(lower_bound, upper_bound, seed=10):\n",
    "    #random.seed(seed)\n",
    "    # unpack all lists\n",
    "        \n",
    "    # set up the figure\n",
    "    fig = plt.figure()\n",
    "    fig.set_figwidth(15)\n",
    "    fig.set_figheight(1)\n",
    "\n",
    "    y = 5\n",
    "    height = 1\n",
    "\n",
    "    plt.hlines(y,lower_bound, upper_bound)\n",
    "    plt.vlines(lower_bound, y - height / 2., y + height / 2.)\n",
    "    plt.vlines(upper_bound, y - height / 2., y + height / 2.)\n",
    "    \n",
    "    plt.text(lower_bound - 0.2 , y, f'{lower_bound}', horizontalalignment='right')\n",
    "    plt.text(upper_bound + 0.2, y, f'{upper_bound}', horizontalalignment='left')\n",
    "    \n",
    "    plt.axis('off')"
   ]
  },
  {
   "cell_type": "code",
   "execution_count": 5,
   "metadata": {},
   "outputs": [],
   "source": [
    "def plot_clusters(clusters, colors, new_chart=True, title=\"\"):\n",
    "    all_vals = list(itertools.chain(*clusters))\n",
    "    \n",
    "    xmin = min(all_vals) - 2\n",
    "    xmax = max(all_vals) + 2\n",
    "    y=5\n",
    "    \n",
    "    if new_chart:\n",
    "        plot_line(xmin, xmax)\n",
    "    \n",
    "    \n",
    "    for i, cluster in enumerate(clusters): \n",
    "            col = colors[i]\n",
    "            for p in cluster:\n",
    "                plt.plot(p,y, 'o', ms = 10, color = col)\n",
    "    \n",
    "    plt.title(title)\n"
   ]
  },
  {
   "cell_type": "code",
   "execution_count": 6,
   "metadata": {},
   "outputs": [],
   "source": [
    "def plot_points(points, color='gray', new_chart=True, title=\"\"):\n",
    "    xmin = min(points) - 2\n",
    "    xmax = max(points) + 2\n",
    "    y=5\n",
    "    \n",
    "    if new_chart:\n",
    "        plot_line(xmin, xmax)\n",
    "    \n",
    "    for i, val in enumerate(points):\n",
    "        plt.plot(val,y, 'ro', ms = 10, color = 'gray')\n",
    "        \n",
    "    plt.title(title)\n"
   ]
  },
  {
   "cell_type": "code",
   "execution_count": 7,
   "metadata": {},
   "outputs": [],
   "source": [
    "def get_random_centroids(all_vals, n_cluster, seed=10):\n",
    "    random.seed(10)\n",
    "    rand_idxs = random.sample(range(0,  len(all_vals)), n_cluster)\n",
    "    centroids = list(all_vals[i] for i in rand_idxs)\n",
    "    centroids.sort()\n",
    "    return centroids "
   ]
  },
  {
   "cell_type": "code",
   "execution_count": 8,
   "metadata": {},
   "outputs": [],
   "source": [
    "def get_centroids(clusters):\n",
    "    centroids = []\n",
    "    for cluster in clusters: \n",
    "        centroids.append(np.average(cluster))\n",
    "    centroids.sort()\n",
    "    return centroids "
   ]
  },
  {
   "cell_type": "code",
   "execution_count": 9,
   "metadata": {},
   "outputs": [],
   "source": [
    "def plot_centroids(centroids, colors,clusters=None, new_chart=True):        \n",
    "    for i, c in enumerate(centroids):\n",
    "        plt.plot(c,5, '|', ms = 50, color = colors[i])"
   ]
  },
  {
   "cell_type": "code",
   "execution_count": 10,
   "metadata": {},
   "outputs": [],
   "source": [
    "def calc_dist_to_centroids(points, centroids, verbose=True):\n",
    "    new_clusters = list([] for i in range(len(centroids))) \n",
    "\n",
    "    \n",
    "    if verbose:\n",
    "        print(\"Abstände berechnen und Gruppen zuweisen: \\n\")\n",
    "        print(f\"{'Point': <6} | C1:Dist({'%.2f'%centroids[0] : ^5}) | C2:Dist({'%.2f'%centroids[1]: ^5}) | C3:Dist({'%.2f'%centroids[2]: ^5}) | Result\")\n",
    "        print(f\"--------------------------------------------------------------------\" )\n",
    "    for val in points:\n",
    "        dists = []\n",
    "        for c in centroids:\n",
    "            dists.append(abs(val - c))\n",
    "        res = dists.index(min(dists))\n",
    "        if verbose:\n",
    "            print(f\"{'%.1f'%val: <6} | {'%2.2f' % dists[0] : >14} | {'%2.2f' %dists[1] : >14} | {'%2.2f' %dists[2] : >14} |{f'C{res+1}' : ^7}\")\n",
    "\n",
    "        new_clusters[res].append(val)\n",
    "    \n",
    "    if verbose:\n",
    "        print(f\"--------------------------------------------------------------------\\n\\nErgebnis nach Zuweisung:\" )\n",
    "        for i, cluster in enumerate(new_clusters):\n",
    "            print(f\"Cluster {i+1}: {cluster}\")\n",
    "        \n",
    "    return new_clusters"
   ]
  },
  {
   "cell_type": "code",
   "execution_count": 11,
   "metadata": {},
   "outputs": [],
   "source": [
    "def get_error(clusters, verbose=False):\n",
    "    error = 0 \n",
    "    for i, c in enumerate(clusters):\n",
    "        error += np.std(c)\n",
    "        if verbose:\n",
    "            print(f\"Cluster {i} Error: {np.std(c)}\")\n",
    "    return error "
   ]
  },
  {
   "cell_type": "code",
   "execution_count": 30,
   "metadata": {},
   "outputs": [],
   "source": [
    "def k_means_iteration(all_vals, clusters,colors, iteration=0, verbose=True):\n",
    "    # calc the mean of each value\n",
    "    centroids = get_centroids(clusters)\n",
    "    # put into new clusters \n",
    "    new_clusters = calc_dist_to_centroids(all_vals, centroids, verbose=False)\n",
    "    \n",
    "    if verbose:\n",
    "        plot_clusters(new_clusters, list('gray' for i in range(len(clusters))), new_chart=True, title=f\"Iteration {iteration}\")\n",
    "        plot_centroids(centroids, colors=colors, new_chart=False)\n",
    "        plt.show()\n",
    "    error = get_error(new_clusters)\n",
    "    return new_clusters, error \n",
    "    "
   ]
  },
  {
   "cell_type": "code",
   "execution_count": 13,
   "metadata": {},
   "outputs": [],
   "source": [
    "def are_solutions_equal(sol1, sol2):\n",
    "    assert len(sol1) == len(sol2)\n",
    "    \n",
    "    for i in range(len(sol1)):\n",
    "        if len(sol1[i]) != len(sol2[i]):\n",
    "            return False\n",
    "        for j in range(len(sol1[i])):\n",
    "            if sol1[i][j] is not sol2[i][j]:\n",
    "                return False\n",
    "    return True"
   ]
  },
  {
   "cell_type": "code",
   "execution_count": 14,
   "metadata": {},
   "outputs": [],
   "source": [
    "def k_means(all_vals, verbose=True):\n",
    "    init_clusters = k_means_init(all_vals)\n",
    "    \n",
    "    finished = False \n",
    "    cluster_its = [init_clusters]\n",
    "    iteration = 0\n",
    "    \n",
    "    while not finished:\n",
    "        new_cluster, new_error = k_means_iteration(all_vals, cluster_its[-1], iteration=iteration)\n",
    "        iteration += 1\n",
    "        if are_solutions_equal(new_cluster,cluster_its[-1] ):\n",
    "            print(\"Keine Veränderung bei den Daten, also liegt das finale Ergebnis vor!\")\n",
    "            # end\n",
    "            return new_cluster, new_error\n",
    "        else:\n",
    "            cluster_its.append(new_cluster)\n",
    "        \n",
    "    "
   ]
  },
  {
   "cell_type": "code",
   "execution_count": 27,
   "metadata": {},
   "outputs": [],
   "source": [
    "def k_means_init(all_vals, n_cluster,colors, seed=10, verbose=True):\n",
    "    random.seed(seed)\n",
    "    # zufällige startpunkte wählen\n",
    "    init_centroids = get_random_centroids(all_vals, n_cluster)\n",
    "    init_centroids_for_display = list([i] for i in init_centroids)\n",
    "    \n",
    "    if verbose:\n",
    "        display(Markdown('Wir wählen zufällig so viele Punkte aus, wie wir die Daten in Gruppen einteilen wollen.'))\n",
    "        # startpunkte zeigen \n",
    "        plot_points(all_vals)\n",
    "        plot_clusters(init_centroids_for_display, colors, new_chart=False, title=\"Zufällig gewählte Startpunkte\")\n",
    "        plt.show()\n",
    "    \n",
    "    # initiale cluster zuweisen\n",
    "    init_clusters = calc_dist_to_centroids(all_vals, centroids=init_centroids )\n",
    "\n",
    "    if verbose:\n",
    "        display(Markdown('So sehen die Cluster dann nach der ersten zufälligen Zuordnung aus:.'))\n",
    "        # initiale cluster zeigen \n",
    "        plot_clusters(init_clusters, colors, new_chart=True, title=\"Initiale Cluster\")\n",
    "        plot_centroids(init_centroids, colors=colors, new_chart=False)\n",
    "        plt.show()\n",
    "    \n",
    "    if verbose:\n",
    "        display(Markdown('#### Und wie gut ist diese Lösung?'))\n",
    "        display(Markdown('Um die Güte einer Lösung zu bestimmen, berechnen wir die Standardabweichung in jedem Cluster und summieren diese dann auf. Je geringer diese Summe ist desto besser.'))\n",
    "        display(Markdown(f\"**Error: {get_error(init_clusters, verbose=True)}**\"))\n",
    "        #print(\"Zum Vergleich nochmal, wies aussehen sollte:\")\n",
    "        #plot_clusters(gt_clusters, colors=colors, title=\"Ausgangsdaten\") \n",
    "        #plt.show()\n",
    "    \n",
    "    return init_clusters\n",
    "    \n",
    "    \n",
    "    \n",
    "    \n"
   ]
  },
  {
   "cell_type": "code",
   "execution_count": 31,
   "metadata": {},
   "outputs": [],
   "source": [
    "def demo_run(n_cluster=3, vals_per_cluster=5, seed=42, title=\"K-means Demo\"):\n",
    "    colors = get_n_colors(n_cluster)\n",
    "    random.seed(seed)\n",
    "    display(Markdown(f'# K-means demo with {n_cluster} Cluster, {vals_per_cluster} vals per cluster and seed={seed}'))\n",
    "    \n",
    "    display(Markdown('---\\n## Setup'))\n",
    "    display(Markdown('Wir nehemn an es gibt eine Menge an Punkten auf einer Skala. Diese Punkte gehören jeweils einer Gruppe an. '))\n",
    "\n",
    "    # create demo data \n",
    "    data = create_data(n_clusters=n_cluster, vals_per_cluster=vals_per_cluster)\n",
    "    all_vals = list(itertools.chain(*data))\n",
    "\n",
    "    plot_clusters(data, colors=colors, title=\"Ausgangsdaten\") \n",
    "    plt.show()\n",
    "\n",
    "    display(Markdown('Es ist vermutlich realitv offensichtlich, welche Punkte zusammengehören. Aus sicht des Computers sehen diese allerdings alle gleich aus.'))\n",
    "    plot_clusters(data, colors=list('gray' for i in range(n_cluster) ) ,title=\"Sicht des Computers\") \n",
    "    plt.show()\n",
    "\n",
    "\n",
    "    display(Markdown('Wie bekommen wir es nun hin, diese Gruppen automatisch zu erkennen? '))\n",
    "    display(Markdown('---\\n## Schritt 1: Zufällige Mittelpunkte wählen'))\n",
    "\n",
    "    init_clusters = k_means_init(all_vals, n_cluster, colors)\n",
    "\n",
    "    display(Markdown('---\\n## Schritt 2: Neue Mittelpunkte berechnen'))\n",
    "    display(Markdown('Jetzt nehmen wir den Mittelpunkt der erzeugten Gruppen als Mittelpunkt für unsere neue Einteilung.'))\n",
    "\n",
    "    iteration = 1\n",
    "    new_cluster, new_error = k_means_iteration(all_vals, init_clusters,colors, iteration=iteration)\n",
    "    iteration += 1\n",
    "\n",
    "    display(Markdown('---\\n## Schritt 3: Die Punkte den neuen Mittelpunkten zuordnen'))\n",
    "    plot_clusters(new_cluster, colors, new_chart=True, title=f\"Iteration {iteration}\")\n",
    "    plt.show()\n",
    "\n",
    "    display(Markdown('---\\n## Schritt 4: Solange sich noch etwas verändert, Schritt 2&3 wiederholen'))\n",
    "\n",
    "    finished = False \n",
    "    cluster_its = [new_cluster]\n",
    "\n",
    "    final_error = None\n",
    "\n",
    "    while not finished:\n",
    "        display(Markdown(f'#### Iteration: {iteration}'))\n",
    "        new_cluster, new_error = k_means_iteration(all_vals, cluster_its[-1],colors, iteration=iteration)\n",
    "        iteration += 1\n",
    "        if are_solutions_equal(new_cluster,cluster_its[-1] ):\n",
    "            display(Markdown('Keine Veränderung mehr, also sind wir fertig!'))\n",
    "            # end\n",
    "            cluster_its.append(new_cluster)\n",
    "            final_error = new_error\n",
    "            break\n",
    "        else:\n",
    "            cluster_its.append(new_cluster)\n",
    "\n",
    "    display(Markdown(\"## Ergebnis: k-means\"))\n",
    "    plot_clusters(cluster_its[-1], colors=colors, title=\"Ergebnis: k-means\") \n",
    "    for i, c in enumerate(cluster_its[-1]):\n",
    "        print(f\"Cluwter {i}: {c}\")\n",
    "    display(Markdown(\"## Ground-truth\"))\n",
    "    plot_clusters(data, colors=colors, title=\"Ausgangsdaten\") \n",
    "    for i, c in enumerate(data):\n",
    "        print(f\"Clsuter {i}: {c}\")\n"
   ]
  },
  {
   "cell_type": "markdown",
   "metadata": {},
   "source": [
    "---"
   ]
  },
  {
   "cell_type": "markdown",
   "metadata": {},
   "source": [
    "# Setup \n",
    "Wir nehemn an es gibt eine Menge an Punkten auf einer Skala. Diese Punkte gehören jeweils einer Gruppe an. \n",
    "Es ist vermutlich realitv offensichtlich, welche Punkte zusammengehören. Aus sicht des Computers sehen diese allerdings alle gleich aus. "
   ]
  },
  {
   "cell_type": "code",
   "execution_count": 33,
   "metadata": {},
   "outputs": [
    {
     "data": {
      "text/markdown": [
       "# K-means demo with 7 Cluster, 5 vals per cluster and seed=45645601"
      ],
      "text/plain": [
       "<IPython.core.display.Markdown object>"
      ]
     },
     "metadata": {},
     "output_type": "display_data"
    },
    {
     "data": {
      "text/markdown": [
       "---\n",
       "## Setup"
      ],
      "text/plain": [
       "<IPython.core.display.Markdown object>"
      ]
     },
     "metadata": {},
     "output_type": "display_data"
    },
    {
     "data": {
      "text/markdown": [
       "Wir nehemn an es gibt eine Menge an Punkten auf einer Skala. Diese Punkte gehören jeweils einer Gruppe an. "
      ],
      "text/plain": [
       "<IPython.core.display.Markdown object>"
      ]
     },
     "metadata": {},
     "output_type": "display_data"
    },
    {
     "data": {
      "image/png": "[encoded data removed]",
      "text/plain": [
       "<Figure size 1080x72 with 1 Axes>"
      ]
     },
     "metadata": {
      "needs_background": "light"
     },
     "output_type": "display_data"
    },
    {
     "data": {
      "text/markdown": [
       "Es ist vermutlich realitv offensichtlich, welche Punkte zusammengehören. Aus sicht des Computers sehen diese allerdings alle gleich aus."
      ],
      "text/plain": [
       "<IPython.core.display.Markdown object>"
      ]
     },
     "metadata": {},
     "output_type": "display_data"
    },
    {
     "data": {
      "image/png": "[encoded data removed]",
      "text/plain": [
       "<Figure size 1080x72 with 1 Axes>"
      ]
     },
     "metadata": {
      "needs_background": "light"
     },
     "output_type": "display_data"
    },
    {
     "data": {
      "text/markdown": [
       "Wie bekommen wir es nun hin, diese Gruppen automatisch zu erkennen? "
      ],
      "text/plain": [
       "<IPython.core.display.Markdown object>"
      ]
     },
     "metadata": {},
     "output_type": "display_data"
    },
    {
     "data": {
      "text/markdown": [
       "---\n",
       "## Schritt 1: Zufällige Mittelpunkte wählen"
      ],
      "text/plain": [
       "<IPython.core.display.Markdown object>"
      ]
     },
     "metadata": {},
     "output_type": "display_data"
    },
    {
     "data": {
      "text/markdown": [
       "Wir wählen zufällig so viele Punkte aus, wie wir die Daten in Gruppen einteilen wollen."
      ],
      "text/plain": [
       "<IPython.core.display.Markdown object>"
      ]
     },
     "metadata": {},
     "output_type": "display_data"
    },
    {
     "data": {
      "image/png": "[encoded data removed]",
      "text/plain": [
       "<Figure size 1080x72 with 1 Axes>"
      ]
     },
     "metadata": {
      "needs_background": "light"
     },
     "output_type": "display_data"
    },
    {
     "name": "stdout",
     "output_type": "stream",
     "text": [
      "Abstände berechnen und Gruppen zuweisen: \n",
      "\n",
      "Point  | C1:Dist(8.50 ) | C2:Dist(13.50) | C3:Dist(21.00) | Result\n",
      "--------------------------------------------------------------------\n",
      "13.5   |           5.00 |           0.00 |           7.50 |  C2   \n",
      "11.5   |           3.00 |           2.00 |           9.50 |  C2   \n",
      "8.5    |           0.00 |           5.00 |          12.50 |  C1   \n",
      "15.5   |           7.00 |           2.00 |           5.50 |  C2   \n",
      "14.5   |           6.00 |           1.00 |           6.50 |  C2   \n",
      "23.0   |          14.50 |           9.50 |           2.00 |  C3   \n",
      "21.0   |          12.50 |           7.50 |           0.00 |  C3   \n",
      "24.0   |          15.50 |          10.50 |           3.00 |  C3   \n",
      "26.0   |          17.50 |          12.50 |           5.00 |  C3   \n",
      "22.0   |          13.50 |           8.50 |           1.00 |  C3   \n",
      "40.5   |          32.00 |          27.00 |          19.50 |  C4   \n",
      "38.5   |          30.00 |          25.00 |          17.50 |  C4   \n",
      "35.5   |          27.00 |          22.00 |          14.50 |  C4   \n",
      "33.5   |          25.00 |          20.00 |          12.50 |  C4   \n",
      "37.5   |          29.00 |          24.00 |          16.50 |  C4   \n",
      "49.0   |          40.50 |          35.50 |          28.00 |  C4   \n",
      "53.0   |          44.50 |          39.50 |          32.00 |  C4   \n",
      "50.0   |          41.50 |          36.50 |          29.00 |  C4   \n",
      "51.0   |          42.50 |          37.50 |          30.00 |  C4   \n",
      "46.0   |          37.50 |          32.50 |          25.00 |  C4   \n",
      "61.5   |          53.00 |          48.00 |          40.50 |  C5   \n",
      "58.5   |          50.00 |          45.00 |          37.50 |  C5   \n",
      "62.5   |          54.00 |          49.00 |          41.50 |  C5   \n",
      "59.5   |          51.00 |          46.00 |          38.50 |  C5   \n",
      "64.5   |          56.00 |          51.00 |          43.50 |  C5   \n",
      "74.0   |          65.50 |          60.50 |          53.00 |  C5   \n",
      "77.0   |          68.50 |          63.50 |          56.00 |  C6   \n",
      "73.0   |          64.50 |          59.50 |          52.00 |  C5   \n",
      "76.0   |          67.50 |          62.50 |          55.00 |  C6   \n",
      "75.0   |          66.50 |          61.50 |          54.00 |  C5   \n",
      "87.5   |          79.00 |          74.00 |          66.50 |  C7   \n",
      "84.5   |          76.00 |          71.00 |          63.50 |  C7   \n",
      "90.5   |          82.00 |          77.00 |          69.50 |  C7   \n",
      "83.5   |          75.00 |          70.00 |          62.50 |  C7   \n",
      "85.5   |          77.00 |          72.00 |          64.50 |  C7   \n",
      "--------------------------------------------------------------------\n",
      "\n",
      "Ergebnis nach Zuweisung:\n",
      "Cluster 1: [8.5]\n",
      "Cluster 2: [13.5, 11.5, 15.5, 14.5]\n",
      "Cluster 3: [23.0, 21.0, 24.0, 26.0, 22.0]\n",
      "Cluster 4: [40.5, 38.5, 35.5, 33.5, 37.5, 49.0, 53.0, 50.0, 51.0, 46.0]\n",
      "Cluster 5: [61.5, 58.5, 62.5, 59.5, 64.5, 74.0, 73.0, 75.0]\n",
      "Cluster 6: [77.0, 76.0]\n",
      "Cluster 7: [87.5, 84.5, 90.5, 83.5, 85.5]\n"
     ]
    },
    {
     "data": {
      "text/markdown": [
       "So sehen die Cluster dann nach der ersten zufälligen Zuordnung aus:."
      ],
      "text/plain": [
       "<IPython.core.display.Markdown object>"
      ]
     },
     "metadata": {},
     "output_type": "display_data"
    },
    {
     "data": {
      "image/png": "[encoded data removed]",
      "text/plain": [
       "<Figure size 1080x72 with 1 Axes>"
      ]
     },
     "metadata": {
      "needs_background": "light"
     },
     "output_type": "display_data"
    },
    {
     "data": {
      "text/markdown": [
       "#### Und wie gut ist diese Lösung?"
      ],
      "text/plain": [
       "<IPython.core.display.Markdown object>"
      ]
     },
     "metadata": {},
     "output_type": "display_data"
    },
    {
     "data": {
      "text/markdown": [
       "Um die Güte einer Lösung zu bestimmen, berechnen wir die Standardabweichung in jedem Cluster und summieren diese dann auf. Je geringer diese Summe ist desto besser."
      ],
      "text/plain": [
       "<IPython.core.display.Markdown object>"
      ]
     },
     "metadata": {},
     "output_type": "display_data"
    },
    {
     "name": "stdout",
     "output_type": "stream",
     "text": [
      "Cluster 0 Error: 0.0\n",
      "Cluster 1 Error: 1.479019945774904\n",
      "Cluster 2 Error: 1.7204650534085253\n",
      "Cluster 3 Error: 6.776614198845911\n",
      "Cluster 4 Error: 6.395494019229476\n",
      "Cluster 5 Error: 0.5\n",
      "Cluster 6 Error: 2.4819347291981715\n"
     ]
    },
    {
     "data": {
      "text/markdown": [
       "**Error: 19.35352794645699**"
      ],
      "text/plain": [
       "<IPython.core.display.Markdown object>"
      ]
     },
     "metadata": {},
     "output_type": "display_data"
    },
    {
     "data": {
      "text/markdown": [
       "---\n",
       "## Schritt 2: Neue Mittelpunkte berechnen"
      ],
      "text/plain": [
       "<IPython.core.display.Markdown object>"
      ]
     },
     "metadata": {},
     "output_type": "display_data"
    },
    {
     "data": {
      "text/markdown": [
       "Jetzt nehmen wir den Mittelpunkt der erzeugten Gruppen als Mittelpunkt für unsere neue Einteilung."
      ],
      "text/plain": [
       "<IPython.core.display.Markdown object>"
      ]
     },
     "metadata": {},
     "output_type": "display_data"
    },
    {
     "data": {
      "image/png": "[encoded data removed]",
      "text/plain": [
       "<Figure size 1080x72 with 1 Axes>"
      ]
     },
     "metadata": {
      "needs_background": "light"
     },
     "output_type": "display_data"
    },
    {
     "data": {
      "text/markdown": [
       "---\n",
       "## Schritt 3: Die Punkte den neuen Mittelpunkten zuordnen"
      ],
      "text/plain": [
       "<IPython.core.display.Markdown object>"
      ]
     },
     "metadata": {},
     "output_type": "display_data"
    },
    {
     "data": {
      "image/png": "[encoded data removed]",
      "text/plain": [
       "<Figure size 1080x72 with 1 Axes>"
      ]
     },
     "metadata": {
      "needs_background": "light"
     },
     "output_type": "display_data"
    },
    {
     "data": {
      "text/markdown": [
       "---\n",
       "## Schritt 4: Solange sich noch etwas verändert, Schritt 2&3 wiederholen"
      ],
      "text/plain": [
       "<IPython.core.display.Markdown object>"
      ]
     },
     "metadata": {},
     "output_type": "display_data"
    },
    {
     "data": {
      "text/markdown": [
       "#### Iteration: 2"
      ],
      "text/plain": [
       "<IPython.core.display.Markdown object>"
      ]
     },
     "metadata": {},
     "output_type": "display_data"
    },
    {
     "data": {
      "image/png": "[encoded data removed]",
      "text/plain": [
       "<Figure size 1080x72 with 1 Axes>"
      ]
     },
     "metadata": {
      "needs_background": "light"
     },
     "output_type": "display_data"
    },
    {
     "data": {
      "text/markdown": [
       "#### Iteration: 3"
      ],
      "text/plain": [
       "<IPython.core.display.Markdown object>"
      ]
     },
     "metadata": {},
     "output_type": "display_data"
    },
    {
     "data": {
      "image/png": "[encoded data removed]",
      "text/plain": [
       "<Figure size 1080x72 with 1 Axes>"
      ]
     },
     "metadata": {
      "needs_background": "light"
     },
     "output_type": "display_data"
    },
    {
     "data": {
      "text/markdown": [
       "Keine Veränderung mehr, also sind wir fertig!"
      ],
      "text/plain": [
       "<IPython.core.display.Markdown object>"
      ]
     },
     "metadata": {},
     "output_type": "display_data"
    },
    {
     "data": {
      "text/markdown": [
       "## Ergebnis: k-means"
      ],
      "text/plain": [
       "<IPython.core.display.Markdown object>"
      ]
     },
     "metadata": {},
     "output_type": "display_data"
    },
    {
     "name": "stdout",
     "output_type": "stream",
     "text": [
      "Cluwter 0: [8.5]\n",
      "Cluwter 1: [13.5, 11.5, 15.5, 14.5]\n",
      "Cluwter 2: [23.0, 21.0, 24.0, 26.0, 22.0]\n",
      "Cluwter 3: [40.5, 38.5, 35.5, 33.5, 37.5, 49.0, 50.0, 51.0, 46.0]\n",
      "Cluwter 4: [53.0, 61.5, 58.5, 62.5, 59.5, 64.5]\n",
      "Cluwter 5: [74.0, 77.0, 73.0, 76.0, 75.0]\n",
      "Cluwter 6: [87.5, 84.5, 90.5, 83.5, 85.5]\n"
     ]
    },
    {
     "data": {
      "text/markdown": [
       "## Ground-truth"
      ],
      "text/plain": [
       "<IPython.core.display.Markdown object>"
      ]
     },
     "metadata": {},
     "output_type": "display_data"
    },
    {
     "name": "stdout",
     "output_type": "stream",
     "text": [
      "Clsuter 0: [13.5, 11.5, 8.5, 15.5, 14.5]\n",
      "Clsuter 1: [23.0, 21.0, 24.0, 26.0, 22.0]\n",
      "Clsuter 2: [40.5, 38.5, 35.5, 33.5, 37.5]\n",
      "Clsuter 3: [49.0, 53.0, 50.0, 51.0, 46.0]\n",
      "Clsuter 4: [61.5, 58.5, 62.5, 59.5, 64.5]\n",
      "Clsuter 5: [74.0, 77.0, 73.0, 76.0, 75.0]\n",
      "Clsuter 6: [87.5, 84.5, 90.5, 83.5, 85.5]\n"
     ]
    },
    {
     "data": {
      "image/png": "[encoded data removed]",
      "text/plain": [
       "<Figure size 1080x72 with 1 Axes>"
      ]
     },
     "metadata": {
      "needs_background": "light"
     },
     "output_type": "display_data"
    },
    {
     "data": {
      "image/png": "[encoded data removed]",
      "text/plain": [
       "<Figure size 1080x72 with 1 Axes>"
      ]
     },
     "metadata": {
      "needs_background": "light"
     },
     "output_type": "display_data"
    }
   ],
   "source": [
    "demo_run(n_cluster = 7,vals_per_cluster = 5, seed=45645601)"
   ]
  },
  {
   "cell_type": "code",
   "execution_count": null,
   "metadata": {},
   "outputs": [],
   "source": []
  }
 ],
 "metadata": {
  "kernelspec": {
   "display_name": "Python 3",
   "language": "python",
   "name": "python3"
  },
  "language_info": {
   "codemirror_mode": {
    "name": "ipython",
    "version": 3
   },
   "file_extension": ".py",
   "mimetype": "text/x-python",
   "name": "python",
   "nbconvert_exporter": "python",
   "pygments_lexer": "ipython3",
   "version": "3.7.6"
  }
 },
 "nbformat": 4,
 "nbformat_minor": 4
}
